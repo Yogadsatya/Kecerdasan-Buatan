{
  "nbformat": 4,
  "nbformat_minor": 0,
  "metadata": {
    "colab": {
      "provenance": [],
      "authorship_tag": "ABX9TyMO9jiXORrZJ5+luoRY3Uit",
      "include_colab_link": true
    },
    "kernelspec": {
      "name": "python3",
      "display_name": "Python 3"
    },
    "language_info": {
      "name": "python"
    }
  },
  "cells": [
    {
      "cell_type": "markdown",
      "metadata": {
        "id": "view-in-github",
        "colab_type": "text"
      },
      "source": [
        "<a href=\"https://colab.research.google.com/github/Yogadsatya/KecerdasanBuatan/blob/main/Yoga_Dwisatya_Giri_F55121059(Quiz).ipynb\" target=\"_parent\"><img src=\"https://colab.research.google.com/assets/colab-badge.svg\" alt=\"Open In Colab\"/></a>"
      ]
    },
    {
      "cell_type": "code",
      "execution_count": 2,
      "metadata": {
        "id": "vkhG1IS2ixGs"
      },
      "outputs": [],
      "source": [
        "import matplotlib.pyplot as plt\n",
        "\n",
        "from sklearn import datasets\n",
        "from sklearn import svm"
      ]
    },
    {
      "cell_type": "code",
      "source": [
        "digits = datasets.load_digits()\n",
        "clf = svm.SVC(gamma=0.01, C=100)\n",
        "print (len(digits.data))\n",
        "(x,y) = digits.data[:-10], digits.target[:-10]\n",
        "clf.fit(x,y)\n",
        "plt.imshow(digits.images[7], cmap=plt.cm.gray_r, interpolation=\"nearest\")\n",
        "plt.show()"
      ],
      "metadata": {
        "colab": {
          "base_uri": "https://localhost:8080/",
          "height": 282
        },
        "id": "ZjvK5EMHi2vs",
        "outputId": "7a0a7bfd-f15e-43ae-b2c7-205a4bbff867"
      },
      "execution_count": 3,
      "outputs": [
        {
          "output_type": "stream",
          "name": "stdout",
          "text": [
            "1797\n"
          ]
        },
        {
          "output_type": "display_data",
          "data": {
            "text/plain": [
              "<Figure size 432x288 with 1 Axes>"
            ],
            "image/png": "[encoded data removed]"
          },
          "metadata": {
            "needs_background": "light"
          }
        }
      ]
    },
    {
      "cell_type": "code",
      "source": [
        "import pandas as pd\n",
        "import matplotlib.pyplot as plt\n",
        "import seaborn as sn\n",
        "from sklearn import svm\n",
        "from sklearn.metrics import classification_report, confusion_matrix\n",
        "from sklearn.model_selection import train_test_split\n",
        " \n",
        "#impor CSV ke dataset\n",
        "df = pd.read_csv('Digit1.csv')\n",
        "df = pd.read_csv('Digit2.csv')\n",
        " \n",
        "#deklarasi training dan testing data\n",
        "X = df[['0']]\n",
        "y = df['0']\n",
        " \n",
        "X_datatrain, X_datatest, y_datatrain, y_datatest = train_test_split(X, y, test_size = 0.2)\n",
        " \n",
        "#menggunakan SVM library untuk membuat SVM classifier\n",
        "classifier = svm.SVC(kernel = 'linear')\n",
        " \n",
        "#memasukkan training data kedalam classifier\n",
        "classifier.fit(X_datatrain, y_datatrain)\n",
        " \n",
        "#memasukkan testing data ke variabel y_predict\n",
        "y_predict = classifier.predict(X_datatest)\n",
        " \n",
        "#menampilkan classification report\n",
        "print(classification_report(y_datatest, y_predict))\n",
        " \n",
        "#mengimplementasikan testing data dan hasil prediksi dalam confusion matrix\n",
        "cm = confusion_matrix(y_datatest, y_predict)\n",
        " \n",
        "#membuat plotting confusion matrix\n",
        "%matplotlib inline\n",
        "plt.figure (figsize=(10,7))\n",
        "sn.heatmap(cm, annot=True)\n",
        "plt.xlabel('Predicted')\n",
        "plt.ylabel('Truth')"
      ],
      "metadata": {
        "colab": {
          "base_uri": "https://localhost:8080/",
          "height": 754
        },
        "id": "qA4M00eNjHtA",
        "outputId": "d535ce8b-6bbc-4c04-8d7b-3c787526961e"
      },
      "execution_count": 4,
      "outputs": [
        {
          "output_type": "stream",
          "name": "stdout",
          "text": [
            "              precision    recall  f1-score   support\n",
            "\n",
            "           0       1.00      1.00      1.00      1158\n",
            "           1       1.00      1.00      1.00      1196\n",
            "           2       1.00      1.00      1.00      1206\n",
            "           3       1.00      1.00      1.00      1178\n",
            "           4       1.00      1.00      1.00      1172\n",
            "           5       1.00      1.00      1.00      1181\n",
            "           6       1.00      1.00      1.00      1200\n",
            "           7       1.00      1.00      1.00      1251\n",
            "           8       1.00      1.00      1.00      1231\n",
            "           9       1.00      1.00      1.00      1227\n",
            "\n",
            "    accuracy                           1.00     12000\n",
            "   macro avg       1.00      1.00      1.00     12000\n",
            "weighted avg       1.00      1.00      1.00     12000\n",
            "\n"
          ]
        },
        {
          "output_type": "execute_result",
          "data": {
            "text/plain": [
              "Text(69.0, 0.5, 'Truth')"
            ]
          },
          "metadata": {},
          "execution_count": 4
        },
        {
          "output_type": "display_data",
          "data": {
            "text/plain": [
              "<Figure size 720x504 with 2 Axes>"
            ],
            "image/png": "[encoded data removed]"
          },
          "metadata": {
            "needs_background": "light"
          }
        }
      ]
    }
  ]
}